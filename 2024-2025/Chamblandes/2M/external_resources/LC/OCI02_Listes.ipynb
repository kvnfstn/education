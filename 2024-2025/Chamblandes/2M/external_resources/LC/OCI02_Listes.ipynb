{
 "cells": [
  {
   "cell_type": "markdown",
   "metadata": {},
   "source": [
    "# Les listes en *Python*\n",
    "---"
   ]
  },
  {
   "cell_type": "markdown",
   "metadata": {},
   "source": [
    "## Définition et instanciation\n",
    "\n",
    "La liste en *Python* (`List`) est le type de données le plus flexible.  \n",
    "C'est une séquence d'éléments, qui peut être modifiée (suppression/ajout) et découpée (`Slice`).  \n",
    "\n",
    "Les listes en *Python* sont définies en utilisant des crochets [ ] et en plaçant des éléments à l'intérieur qui sont séparés par des virgules.  \n",
    "Les éléments de la liste sont indexés (`index`) de gauche à droite, le premier index vaut 0.\n",
    "\n",
    "**Attention** : Les *listes* définies à l'aide de parenthèses sont appelées des `tuples` et leur contenu n'est pas modifiable."
   ]
  },
  {
   "cell_type": "code",
   "execution_count": 1,
   "metadata": {},
   "outputs": [],
   "source": [
    "weekdays = [\"Monday\",\"Tuesday\",\"Wednesday\",\"Thursday\",\"Friday\",\"Saturday\",\"Sunday\"]"
   ]
  },
  {
   "cell_type": "markdown",
   "metadata": {},
   "source": [
    "## Accéder aux éléments d'une liste\n",
    "\n",
    "Pour accéder à un élément en particulier de la liste on peut utiliser son index (le numéro de sa place dans la liste) noté entre [ ].  \n",
    "**Attention :** en *Python* les index commence à 0. Le premier élément de la liste s'obtient donc avec la notation `maliste[0]`."
   ]
  },
  {
   "cell_type": "code",
   "execution_count": 2,
   "metadata": {},
   "outputs": [
    {
     "name": "stdout",
     "output_type": "stream",
     "text": [
      "Thursday\n"
     ]
    }
   ],
   "source": [
    "print( weekdays[3] )"
   ]
  },
  {
   "cell_type": "markdown",
   "metadata": {},
   "source": [
    "### Index négatifs\n",
    "\n",
    "Vous pouvez également parcourir les éléments de la liste en commençant par la fin en utilisant des index négatifs.\n",
    "Le dernier élément se trouve à l'index -1, l'avant dernier à l'index -2, etc."
   ]
  },
  {
   "cell_type": "code",
   "execution_count": 3,
   "metadata": {},
   "outputs": [
    {
     "name": "stdout",
     "output_type": "stream",
     "text": [
      "['Saturday', 'Sunday']\n"
     ]
    }
   ],
   "source": [
    "weekend = [ weekdays[-2], weekdays[-1] ]\n",
    "print(weekend)"
   ]
  },
  {
   "cell_type": "markdown",
   "metadata": {},
   "source": [
    "### Sous-liste | `slicing`\n",
    "Pour extraire une *tranche* de la liste on utilise le symbole __:__ qui séparent l'index de début et l'index de fin.  \n",
    "**Attention :** l'élément à l'index de fin est exclu de la liste ( i.e. [*index_début ; index_fin*[ )"
   ]
  },
  {
   "cell_type": "code",
   "execution_count": 4,
   "metadata": {},
   "outputs": [
    {
     "data": {
      "text/plain": [
       "['Tuesday', 'Wednesday', 'Thursday']"
      ]
     },
     "execution_count": 4,
     "metadata": {},
     "output_type": "execute_result"
    }
   ],
   "source": [
    "weekdays[1:4]"
   ]
  },
  {
   "cell_type": "markdown",
   "metadata": {},
   "source": [
    "**Exercice**\n",
    "\n",
    "Créez une sous-liste allant de la cherry au kiwi"
   ]
  },
  {
   "cell_type": "code",
   "execution_count": 6,
   "metadata": {
    "solution2": "hidden",
    "solution2_first": true
   },
   "outputs": [],
   "source": [
    "fruitlist = [\"apple\", \"banana\", \"cherry\", \"orange\", \"kiwi\", \"melon\", \"mango\"]"
   ]
  },
  {
   "cell_type": "markdown",
   "metadata": {},
   "source": [
    "**Exercice**\n",
    "\n",
    "Créez la même sous-liste que précédement allant de la cherry au kiwi, mais cet fois avec des index négatifs"
   ]
  },
  {
   "cell_type": "code",
   "execution_count": 7,
   "metadata": {
    "solution2": "hidden"
   },
   "outputs": [
    {
     "name": "stdout",
     "output_type": "stream",
     "text": [
      "['cherry', 'orange', 'kiwi']\n"
     ]
    }
   ],
   "source": [
    "sublist = fruitlist[2:5]\n",
    "print(sublist)"
   ]
  },
  {
   "cell_type": "markdown",
   "metadata": {},
   "source": [
    "### Omission d'index\n",
    "Si l'index de début est omis, la *tranche* commencera au début de la liste. Si c'est l'index de fin qui est absent, la *tranche* finira à la fin de la liste.  \n",
    "Une *tranche* peut également être définie avec des index négatifs.\n",
    "\n",
    "**Exercice**\n",
    "\n",
    "1. Créez la sous-liste allant de apple à orange en utilisant 1 seul index\n",
    "2. Créez la sous-liste allant de cherry à mango en utilisant 1 seul index"
   ]
  },
  {
   "cell_type": "code",
   "execution_count": null,
   "metadata": {},
   "outputs": [],
   "source": []
  },
  {
   "cell_type": "markdown",
   "metadata": {},
   "source": [
    "### Listes imbriquées\n",
    "\n",
    "Les listes ne sont pas forcément constituées d'éléments de même type.  \n",
    "Vous pouvez faire tous les mélanges que vous voulez y compris mettre des listes dans des listes, des tuples dans des listes, des tuples de listes dans des listes et vice versa, etc."
   ]
  },
  {
   "cell_type": "code",
   "execution_count": 8,
   "metadata": {},
   "outputs": [
    {
     "data": {
      "text/plain": [
       "[1.0, 100, 'Elephant', ('mouse', 'rat'), ['Saturday', 'Sunday']]"
      ]
     },
     "execution_count": 8,
     "metadata": {},
     "output_type": "execute_result"
    }
   ],
   "source": [
    "mixedlist = [ 1.0, 100, \"Elephant\", (\"mouse\", \"rat\"), weekend ]\n",
    "mixedlist"
   ]
  },
  {
   "cell_type": "markdown",
   "metadata": {},
   "source": [
    "Pour accéder aux éléments imbriqués on utilise autant de niveaux de [ ] qu'il y a de niveaux d'imbriquation.  \n",
    "Par exemple pour accéder au *rat* du tuple imbriquée dans `mixedlist` on utilisera la notation suivante :"
   ]
  },
  {
   "cell_type": "code",
   "execution_count": 9,
   "metadata": {},
   "outputs": [
    {
     "data": {
      "text/plain": [
       "'rat'"
      ]
     },
     "execution_count": 9,
     "metadata": {},
     "output_type": "execute_result"
    }
   ],
   "source": [
    "mixedlist[3][1]"
   ]
  },
  {
   "cell_type": "markdown",
   "metadata": {},
   "source": [
    "**Exercice**\n",
    "\n",
    "Trouvez la notation permettant d'accéder directement au *Wednesday* qui est élément de la liste `weekend` imbriquée dans `mixedlist`."
   ]
  },
  {
   "cell_type": "code",
   "execution_count": null,
   "metadata": {},
   "outputs": [],
   "source": []
  },
  {
   "cell_type": "markdown",
   "metadata": {},
   "source": [
    "## Modification de liste\n",
    "\n",
    "Les listes ont de nombreuses méthodes utiles qui sont prédéfinies comme par exemple pour ajouter ou supprimer des éléments.\n",
    "Des explications concises sont accessibles via la commande `help(list)`. \n",
    "Ignorez les méthodes qui commencent par un underscore ( \\_ ) ; ces méthodes sont utilisées pour définir des opérations internes comme l'initialisation d'une liste, les surcharges d'opérateurs, etc."
   ]
  },
  {
   "cell_type": "markdown",
   "metadata": {},
   "source": [
    "### Modification d'un élément\n",
    "\n",
    "Il est possible de modifier un élément d'une liste en y accédant par son `index`."
   ]
  },
  {
   "cell_type": "code",
   "execution_count": null,
   "metadata": {},
   "outputs": [],
   "source": [
    "fruitlist = [\"apple\", \"banana\", \"cherry\", \"orange\", \"kiwi\", \"melon\", \"mango\"]\n",
    "fruitlist[3] = \"kumquat\"\n",
    "print(fruitlist)"
   ]
  },
  {
   "cell_type": "markdown",
   "metadata": {},
   "source": [
    "#### Exercice\n",
    "Modifiez *Wednesday* dans la liste `weekdays` en *Mercredi*."
   ]
  },
  {
   "cell_type": "code",
   "execution_count": null,
   "metadata": {},
   "outputs": [],
   "source": []
  },
  {
   "cell_type": "markdown",
   "metadata": {},
   "source": [
    "Modifiez le deuxième élément de la liste `weekend` imbriquée dans `mixedlist` pour **Samedi**"
   ]
  },
  {
   "cell_type": "code",
   "execution_count": null,
   "metadata": {
    "solution2": "hidden",
    "solution2_first": true
   },
   "outputs": [],
   "source": [
    "mixedlist = [ 1.0, 100, \"Elephant\", (\"mouse\", \"rat\"), weekend ]"
   ]
  },
  {
   "cell_type": "code",
   "execution_count": null,
   "metadata": {
    "solution2": "hidden"
   },
   "outputs": [],
   "source": [
    "mixedlist[4][1] = \"Samedi\"\n",
    "print(mixedlist)"
   ]
  },
  {
   "cell_type": "markdown",
   "metadata": {},
   "source": [
    "### Ajout d'un élément\n",
    "\n",
    "#### En fin de liste\n",
    "La méthode **`append(x)`** ajoute l'élément *x* en fin de liste."
   ]
  },
  {
   "cell_type": "code",
   "execution_count": null,
   "metadata": {},
   "outputs": [],
   "source": [
    "fruitlist = [\"apple\", \"banana\", \"cherry\", \"orange\", \"kiwi\", \"melon\", \"mango\"]\n",
    "fruitlist.append(\"kumquat\")\n",
    "print(fruitlist)"
   ]
  },
  {
   "cell_type": "markdown",
   "metadata": {},
   "source": [
    "#### À un endroit spécifique\n",
    "\n",
    "La méthode **`insert(idx, x)`** insère l'élément *x* à l'`index` *idx*."
   ]
  },
  {
   "cell_type": "code",
   "execution_count": null,
   "metadata": {},
   "outputs": [],
   "source": [
    "fruitlist = [\"apple\", \"banana\", \"cherry\", \"orange\", \"kiwi\", \"melon\", \"mango\"]\n",
    "fruitlist.insert(2,\"kumquat\")\n",
    "print(fruitlist)"
   ]
  },
  {
   "cell_type": "markdown",
   "metadata": {},
   "source": [
    "#### Concaténation de listes\n",
    "\n",
    "Il y a plusieurs façons de concaténer 2 listes ou plus. La méthode la plus simple est sûrement l'utilisation de l'opérateur `+`."
   ]
  },
  {
   "cell_type": "code",
   "execution_count": null,
   "metadata": {},
   "outputs": [],
   "source": [
    "list1 = [\"a\", \"b\" , \"c\"]\n",
    "list2 = [1, 2, 3]\n",
    "\n",
    "list3 = list1 + list2\n",
    "print(list3)"
   ]
  },
  {
   "cell_type": "markdown",
   "metadata": {},
   "source": [
    "On peut également utiliser la méthode **`extend(iter)`** et qui va rajouter les éléments d'une liste (ou une autre structure itérable) à une autre liste."
   ]
  },
  {
   "cell_type": "code",
   "execution_count": null,
   "metadata": {},
   "outputs": [],
   "source": [
    "list1 = [\"a\", \"b\" , \"c\"]\n",
    "list2 = [1, 2, 3]\n",
    "\n",
    "list1.extend(list2)\n",
    "print(list1)"
   ]
  },
  {
   "cell_type": "markdown",
   "metadata": {},
   "source": [
    "#### Exercices\n",
    "\n",
    "1. Ajoutez le papmplemousse (en anglais) à la fin de `fruitlist`.\n",
    "2. Insérez le citron (toujours en anglais) entre l'orange et le kiwi.\n",
    "3. Supprimez le **melon** de la liste.\n",
    "4. Imprimez l'avant-dernier élément de la liste en utilisant un index négatif.\n",
    "5. Créez une nouvelle liste `fruitday` qui est la concaténation de `weekdays` et `fruitlist`."
   ]
  },
  {
   "cell_type": "code",
   "execution_count": null,
   "metadata": {},
   "outputs": [],
   "source": []
  },
  {
   "cell_type": "markdown",
   "metadata": {},
   "source": [
    "### Suppression\n",
    "\n",
    "#### Supprimer un élément spécifique\n",
    "\n",
    "La méthode **`remove(elmt)`** supprime l'élément *elmt*.  "
   ]
  },
  {
   "cell_type": "code",
   "execution_count": null,
   "metadata": {},
   "outputs": [],
   "source": [
    "fruitlist = [\"apple\", \"banana\", \"cherry\", \"orange\", \"kiwi\", \"melon\", \"mango\"]\n",
    "fruitlist.remove(\"orange\")\n",
    "print(fruitlist)"
   ]
  },
  {
   "cell_type": "markdown",
   "metadata": {},
   "source": [
    "#### Supprimer selon une position\n",
    "\n",
    "La méthode **`pop(idx)`** supprime l'élément se trouvant à la position *idx* et le retourne (`return`).  \n",
    "Si *idx* n'est pas précisé, `pop()` supprime et retourne le dernier élément de la liste."
   ]
  },
  {
   "cell_type": "code",
   "execution_count": null,
   "metadata": {},
   "outputs": [],
   "source": [
    "fruitlist = [\"apple\", \"banana\", \"cherry\", \"orange\", \"kiwi\", \"melon\", \"mango\"]\n",
    "fruit = fruitlist.pop(3)\n",
    "print(fruit)\n",
    "print(fruitlist)\n",
    "\n",
    "lastfruit = fruitlist.pop()\n",
    "print(lastfruit)\n",
    "print(fruitlist)"
   ]
  },
  {
   "cell_type": "markdown",
   "metadata": {},
   "source": [
    "#### Effacement\n",
    "\n",
    "Le mot clé `del` peut aussi être utilisé pour effacer un élément dont l'`index` est connu."
   ]
  },
  {
   "cell_type": "code",
   "execution_count": null,
   "metadata": {},
   "outputs": [],
   "source": [
    "fruitlist = [\"apple\", \"banana\", \"cherry\", \"orange\", \"kiwi\", \"melon\", \"mango\"]\n",
    "del fruitlist[2]\n",
    "print(fruitlist)"
   ]
  },
  {
   "cell_type": "markdown",
   "metadata": {},
   "source": [
    "**Attention** : le mot clé `del` efface aussi le contenu d'une variable."
   ]
  },
  {
   "cell_type": "code",
   "execution_count": null,
   "metadata": {},
   "outputs": [],
   "source": [
    "fruitlist = [\"apple\", \"banana\", \"cherry\", \"orange\", \"kiwi\", \"melon\", \"mango\"]\n",
    "del fruitlist\n",
    "print(fruitlist)"
   ]
  },
  {
   "cell_type": "markdown",
   "metadata": {},
   "source": [
    "Pour vider le contenu d'une liste, il faut utiliser la méthode **`clear()`**."
   ]
  },
  {
   "cell_type": "code",
   "execution_count": null,
   "metadata": {},
   "outputs": [],
   "source": [
    "fruitlist = [\"apple\", \"banana\", \"cherry\", \"orange\", \"kiwi\", \"melon\", \"mango\"]\n",
    "fruitlist.clear()\n",
    "print(fruitlist)"
   ]
  },
  {
   "cell_type": "code",
   "execution_count": null,
   "metadata": {},
   "outputs": [],
   "source": []
  },
  {
   "cell_type": "markdown",
   "metadata": {},
   "source": [
    "#### Exercice\n",
    "\n",
    "Créez une nouvelle liste `monovowelfruit` dans laquelle vous déplacerez les fruits de `fruitlist` dont le nom ne possède pas 2 voyelles différentes. Ces fruits ayant été déplacés, ils ne seront plus dans `fruitlist`."
   ]
  },
  {
   "cell_type": "code",
   "execution_count": null,
   "metadata": {},
   "outputs": [],
   "source": [
    "fruitlist = [\"apple\", \"banana\", \"cherry\", \"orange\", \"kiwi\", \"melon\", \"mango\"]\n",
    "\n",
    "\n",
    "print(fruitlist)"
   ]
  },
  {
   "cell_type": "markdown",
   "metadata": {},
   "source": [
    "### Copier une liste\n",
    "\n",
    "L'affectation d'une liste existante à une nouvelle variable (`fruitcopy = fruitlist`) ne créé pas une copie de la liste, mais créé une référence. Toutes modifications de la liste initiale affectera la référence."
   ]
  },
  {
   "cell_type": "code",
   "execution_count": null,
   "metadata": {},
   "outputs": [],
   "source": [
    "fruitlist = [\"apple\", \"banana\", \"cherry\", \"orange\", \"kiwi\", \"melon\", \"mango\"]\n",
    "fruitcopy = fruitlist\n",
    "\n",
    "fruitlist[3] = \"peach\"\n",
    "\n",
    "print(fruitcopy)"
   ]
  },
  {
   "cell_type": "markdown",
   "metadata": {},
   "source": [
    "Pour créer une copie on peut utiliser la méthode **`copy()`** qui va générer une copie de la liste."
   ]
  },
  {
   "cell_type": "code",
   "execution_count": null,
   "metadata": {},
   "outputs": [],
   "source": [
    "fruitlist = [\"apple\", \"banana\", \"cherry\", \"orange\", \"kiwi\", \"melon\", \"mango\"]\n",
    "fruitcopy = fruitlist.copy()\n",
    "\n",
    "fruitlist[3] = \"peach\"\n",
    "\n",
    "print(fruitcopy)"
   ]
  },
  {
   "cell_type": "markdown",
   "metadata": {},
   "source": [
    "On peut également utiliser le *constructeur* de listes : **`list(elmt)`**, qui créer une liste à partir de `elmt`."
   ]
  },
  {
   "cell_type": "code",
   "execution_count": null,
   "metadata": {},
   "outputs": [],
   "source": [
    "fruitlist = [\"apple\", \"banana\", \"cherry\", \"orange\", \"kiwi\", \"melon\", \"mango\"]\n",
    "fruitcopy = list(fruitlist)\n",
    "\n",
    "fruitlist[2] = \"peach\"\n",
    "\n",
    "print(fruitcopy)"
   ]
  },
  {
   "cell_type": "markdown",
   "metadata": {
    "collapsed": true
   },
   "source": [
    "## Méthodes de liste\n",
    "\n",
    "Complétez les descriptions des méthodes suivantes.  \n",
    "Pour celles que vous ne connaissez pas, utilisez la fonction `help` afin de truover une description, puis essayez de les utiliser dans des exemples.\n",
    "\n",
    "|Méthode|Description|\n",
    "|----|----|\n",
    "|append()| |\n",
    "|clear()| |\n",
    "|copy()| |\n",
    "|count()| |\n",
    "|extend()| |\n",
    "|index()| |\n",
    "|insert()| |\n",
    "|pop()| |\n",
    "|remove()| |\n",
    "|reverse()| |\n",
    "|sort()| |\n"
   ]
  },
  {
   "cell_type": "code",
   "execution_count": null,
   "metadata": {},
   "outputs": [],
   "source": []
  },
  {
   "cell_type": "markdown",
   "metadata": {},
   "source": [
    "**Besoin d'aide ?** : par [ici](https://www.tutorialspoint.com/python3/python_lists.htm)"
   ]
  },
  {
   "cell_type": "markdown",
   "metadata": {},
   "source": [
    "## Fonctions supplémentaires\n",
    "\n",
    "### `len()`\n",
    "\n",
    "Il existe des fonctions prédifinies qui peuvent opérer sur les liste telles que la fonction **`len`** qui permet d'obtenir la taille d'une liste."
   ]
  },
  {
   "cell_type": "code",
   "execution_count": null,
   "metadata": {},
   "outputs": [],
   "source": [
    "len(fruitlist)"
   ]
  },
  {
   "cell_type": "markdown",
   "metadata": {},
   "source": [
    "####  Exercice\n",
    "\n",
    "Imprimez le dernier élément de la liste `weekdays` en utilisant la fonction `len` (pas d'index négatif)."
   ]
  },
  {
   "cell_type": "code",
   "execution_count": null,
   "metadata": {},
   "outputs": [],
   "source": []
  },
  {
   "cell_type": "markdown",
   "metadata": {},
   "source": [
    "Pourquoi la commande `weekdays[len(weekdays)]` ne fonctionne-t-elle pas ?"
   ]
  },
  {
   "cell_type": "markdown",
   "metadata": {},
   "source": [
    "__votre réponse ici__"
   ]
  },
  {
   "cell_type": "markdown",
   "metadata": {},
   "source": [
    "### `range()`\n",
    "\n",
    "Une commande très utile pour générer des séquences de nombres : **`range`**.\n",
    "Cette fonction peut prendre 1, 2 ou 3 paramètres.\n",
    "\n",
    "Avec 1 paramètre elle permet de générer la liste des entiers inférieurs au paramètre."
   ]
  },
  {
   "cell_type": "code",
   "execution_count": null,
   "metadata": {},
   "outputs": [],
   "source": [
    "list(range(10))"
   ]
  },
  {
   "cell_type": "markdown",
   "metadata": {},
   "source": [
    "Avec 2 paramètres vous spécifiez la valeur de début et celle de fin (non inclue)."
   ]
  },
  {
   "cell_type": "code",
   "execution_count": null,
   "metadata": {},
   "outputs": [],
   "source": [
    "list(range(2,10))"
   ]
  },
  {
   "cell_type": "markdown",
   "metadata": {},
   "source": [
    "Avec 3 paramètres vous spécifiez la valeur de début, de fin et le pas."
   ]
  },
  {
   "cell_type": "code",
   "execution_count": null,
   "metadata": {},
   "outputs": [],
   "source": [
    "list(range(2,10,2))"
   ]
  },
  {
   "cell_type": "markdown",
   "metadata": {},
   "source": [
    "Cette commande est particulièremet utile pour les *boucles* que nous aborderons par la suite."
   ]
  },
  {
   "cell_type": "markdown",
   "metadata": {},
   "source": [
    "#### Exercices\n",
    "\n",
    "Utilisez la fonction `range()` pour générer la liste de tous les multiples de 7 inférieurs 4103. "
   ]
  },
  {
   "cell_type": "code",
   "execution_count": null,
   "metadata": {},
   "outputs": [],
   "source": []
  },
  {
   "cell_type": "markdown",
   "metadata": {
    "solution2": "hidden",
    "solution2_first": true
   },
   "source": [
    "En utilisant des listes imbriquées, créez une structure pour représenter la matrice 3x3 suivante : $A=\\begin{pmatrix}1&4&7\\\\2&5&8\\\\3&6&9\\end{pmatrix}$. \n",
    "Vos imbrications de listes devront permettre à la commande `A[l][c]` d'accéder à l'élément se trouvant à la ligne `l` et la colonne `c` ; e.g. `A[1][2]=8` et `A[2][0]=3` (Attention les index commencent à 0)."
   ]
  },
  {
   "cell_type": "code",
   "execution_count": null,
   "metadata": {
    "solution2": "hidden"
   },
   "outputs": [],
   "source": [
    "A = [[1,4,7],[2,5,8],[3,6,9]]\n",
    "print(A)\n",
    "print(A[1][2])\n",
    "print(A[2][0])"
   ]
  },
  {
   "cell_type": "code",
   "execution_count": null,
   "metadata": {},
   "outputs": [],
   "source": []
  },
  {
   "cell_type": "markdown",
   "metadata": {},
   "source": [
    "Ce Notebook est a été crée par David Da SILVA - 2020\n",
    "\n",
    "<a rel=\"license\" href=\"http://creativecommons.org/licenses/by-nc-sa/4.0/\"><img alt=\"Creative Commons License\" style=\"border-width:0\" src=\"https://i.creativecommons.org/l/by-nc-sa/4.0/88x31.png\" /></a><br />This work is licensed under a <a rel=\"license\" href=\"http://creativecommons.org/licenses/by-nc-sa/4.0/\">Creative Commons Attribution-NonCommercial-ShareAlike 4.0 International License</a>."
   ]
  }
 ],
 "metadata": {
  "kernelspec": {
   "display_name": "Python 3 (ipykernel)",
   "language": "python",
   "name": "python3"
  },
  "language_info": {
   "codemirror_mode": {
    "name": "ipython",
    "version": 3
   },
   "file_extension": ".py",
   "mimetype": "text/x-python",
   "name": "python",
   "nbconvert_exporter": "python",
   "pygments_lexer": "ipython3",
   "version": "3.9.7"
  },
  "latex_envs": {
   "LaTeX_envs_menu_present": true,
   "autoclose": true,
   "autocomplete": true,
   "bibliofile": "biblio.bib",
   "cite_by": "apalike",
   "current_citInitial": 1,
   "eqLabelWithNumbers": true,
   "eqNumInitial": 1,
   "hotkeys": {
    "equation": "Ctrl-E",
    "itemize": "Ctrl-I"
   },
   "labels_anchors": false,
   "latex_user_defs": false,
   "report_style_numbering": false,
   "user_envs_cfg": false
  },
  "toc": {
   "base_numbering": 1,
   "nav_menu": {},
   "number_sections": true,
   "sideBar": true,
   "skip_h1_title": true,
   "title_cell": "Sommaire",
   "title_sidebar": "Listes",
   "toc_cell": false,
   "toc_position": {
    "height": "calc(100% - 180px)",
    "left": "10px",
    "top": "150px",
    "width": "358.391px"
   },
   "toc_section_display": true,
   "toc_window_display": true
  }
 },
 "nbformat": 4,
 "nbformat_minor": 1
}
