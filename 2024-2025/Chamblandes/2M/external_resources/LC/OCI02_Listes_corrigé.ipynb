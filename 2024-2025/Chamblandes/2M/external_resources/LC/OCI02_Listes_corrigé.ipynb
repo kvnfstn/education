{
 "cells": [
  {
   "cell_type": "markdown",
   "metadata": {},
   "source": [
    "# Les listes en *Python*\n",
    "---"
   ]
  },
  {
   "cell_type": "markdown",
   "metadata": {},
   "source": [
    "## Définition et instanciation\n",
    "\n",
    "La liste en *Python* (`List`) est le type de données le plus flexible.  \n",
    "C'est une séquence d'éléments, qui peut être modifiée (suppression/ajout) et découpée (`Slice`).  \n",
    "\n",
    "Les listes en *Python* sont définies en utilisant des crochets [ ] et en plaçant des éléments à l'intérieur qui sont séparés par des virgules.  \n",
    "Les éléments de la liste sont indexés (`index`) de gauche à droite, le premier index vaut 0.\n",
    "\n",
    "**Attention** : Les *listes* définies à l'aide de parenthèses sont appelées des `tuples` et leur contenu n'est pas modifiable."
   ]
  },
  {
   "cell_type": "markdown",
   "metadata": {},
   "source": [
    "raccourci clavier pour les crochets et accolades : \n",
    "\n",
    "Alt + 5 = [ \n",
    "\n",
    "Alt + 6 = ] \n",
    "\n",
    "\n",
    "Alt + 8 = { \n",
    "\n",
    "Alt + 9 = } \n"
   ]
  },
  {
   "cell_type": "code",
   "execution_count": 23,
   "metadata": {},
   "outputs": [],
   "source": [
    "\n",
    "weekdays = [\"Monday\",\"Tuesday\",\"Wednesday\",\"Thursday\",\"Friday\",\"Saturday\",\"Sunday\"]"
   ]
  },
  {
   "cell_type": "markdown",
   "metadata": {},
   "source": [
    "## Accéder aux éléments d'une liste\n",
    "\n",
    "Pour accéder à un élément en particulier de la liste on peut utiliser son index (le numéro de sa place dans la liste) noté entre [ ].  \n",
    "**Attention :** en *Python* les index commence à 0. Le premier élément de la liste s'obtient donc avec la notation `maliste[0]`."
   ]
  },
  {
   "cell_type": "code",
   "execution_count": 2,
   "metadata": {},
   "outputs": [
    {
     "name": "stdout",
     "output_type": "stream",
     "text": [
      "Thursday\n"
     ]
    }
   ],
   "source": [
    "print( weekdays[3] )"
   ]
  },
  {
   "cell_type": "markdown",
   "metadata": {},
   "source": [
    "### Index négatifs\n",
    "\n",
    "Vous pouvez également parcourir les éléments de la liste en commençant par la fin en utilisant des index négatifs.\n",
    "Le dernier élément se trouve à l'index -1, l'avant dernier à l'index -2, etc."
   ]
  },
  {
   "cell_type": "code",
   "execution_count": 3,
   "metadata": {},
   "outputs": [
    {
     "name": "stdout",
     "output_type": "stream",
     "text": [
      "['Saturday', 'Sunday']\n"
     ]
    }
   ],
   "source": [
    "weekend = [ weekdays[-2], weekdays[-1] ]\n",
    "print(weekend)"
   ]
  },
  {
   "cell_type": "markdown",
   "metadata": {},
   "source": [
    "### Sous-liste | `slicing`\n",
    "Pour extraire une *tranche* de la liste on utilise le symbole __:__ qui séparent l'index de début et l'index de fin.  \n",
    "**Attention :** l'élément à l'index de fin est exclu de la liste ( i.e. [*index_début ; index_fin*[ )"
   ]
  },
  {
   "cell_type": "code",
   "execution_count": 4,
   "metadata": {},
   "outputs": [
    {
     "data": {
      "text/plain": [
       "['Tuesday', 'Wednesday', 'Thursday']"
      ]
     },
     "execution_count": 4,
     "metadata": {},
     "output_type": "execute_result"
    }
   ],
   "source": [
    "weekdays[1:4]"
   ]
  },
  {
   "cell_type": "markdown",
   "metadata": {},
   "source": [
    "**Exercice**\n",
    "\n",
    "Créez une sous-liste allant de la cherry au kiwi"
   ]
  },
  {
   "cell_type": "code",
   "execution_count": 38,
   "metadata": {
    "solution2": "hidden",
    "solution2_first": true
   },
   "outputs": [
    {
     "name": "stdout",
     "output_type": "stream",
     "text": [
      "['cherry', 'orange', 'kiwi']\n"
     ]
    }
   ],
   "source": [
    "fruitlist = [\"apple\", \"banana\", \"cherry\", \"orange\", \"kiwi\", \"melon\", \"mango\"]\n",
    "sublist = fruitlist[2:5]\n",
    "print(sublist)"
   ]
  },
  {
   "cell_type": "markdown",
   "metadata": {},
   "source": [
    "**Exercice**\n",
    "\n",
    "Créez la même sous-liste que précédement allant de la cherry au kiwi, mais cet fois avec des index négatifs"
   ]
  },
  {
   "cell_type": "code",
   "execution_count": 10,
   "metadata": {
    "solution2": "hidden"
   },
   "outputs": [
    {
     "data": {
      "text/plain": [
       "['cherry', 'orange', 'kiwi']"
      ]
     },
     "execution_count": 10,
     "metadata": {},
     "output_type": "execute_result"
    }
   ],
   "source": [
    "sublist = fruitlist[-5:-2]\n",
    "sublist"
   ]
  },
  {
   "cell_type": "markdown",
   "metadata": {},
   "source": [
    "### Omission d'index\n",
    "Si l'index de début est omis, la *tranche* commencera au début de la liste. Si c'est l'index de fin qui est absent, la *tranche* finira à la fin de la liste.  \n",
    "Une *tranche* peut également être définie avec des index négatifs.\n",
    "\n",
    "**Exercice**\n",
    "\n",
    "1. Créez la sous-liste allant de apple à orange en utilisant 1 seul index\n",
    "2. Créez la sous-liste allant de cherry à mango en utilisant 1 seul index"
   ]
  },
  {
   "cell_type": "code",
   "execution_count": 15,
   "metadata": {},
   "outputs": [
    {
     "name": "stdout",
     "output_type": "stream",
     "text": [
      "['apple', 'banana', 'cherry', 'orange']\n",
      "['cherry', 'orange', 'kiwi', 'melon', 'mango']\n"
     ]
    }
   ],
   "source": [
    "sublist = fruitlist[:4]\n",
    "print(sublist)\n",
    "sublist = fruitlist[-5:]\n",
    "print(sublist)"
   ]
  },
  {
   "cell_type": "markdown",
   "metadata": {},
   "source": [
    "### Listes imbriquées\n",
    "\n",
    "Les listes ne sont pas forcément constituées d'éléments de même type.  \n",
    "Vous pouvez faire tous les mélanges que vous voulez y compris mettre des listes dans des listes, des tuples dans des listes, des tuples de listes dans des listes et vice versa, etc."
   ]
  },
  {
   "cell_type": "code",
   "execution_count": 19,
   "metadata": {},
   "outputs": [
    {
     "data": {
      "text/plain": [
       "[1.0, 100, 'Elephant', ('mouse', 'rat'), ['Saturday', 'Sunday']]"
      ]
     },
     "execution_count": 19,
     "metadata": {},
     "output_type": "execute_result"
    }
   ],
   "source": [
    "mixedlist = [ 1.0, 100, \"Elephant\", (\"mouse\", \"rat\"), weekend ]\n",
    "mixedlist"
   ]
  },
  {
   "cell_type": "markdown",
   "metadata": {},
   "source": [
    "Pour accéder aux éléments imbriqués on utilise autant de niveaux de [ ] qu'il y a de niveaux d'imbriquation.  \n",
    "Par exemple pour accéder au *rat* du tuple imbriquée dans `mixedlist` on utilisera la notation suivante :"
   ]
  },
  {
   "cell_type": "code",
   "execution_count": 24,
   "metadata": {},
   "outputs": [
    {
     "data": {
      "text/plain": [
       "'rat'"
      ]
     },
     "execution_count": 24,
     "metadata": {},
     "output_type": "execute_result"
    }
   ],
   "source": [
    "mixedlist[3][1]"
   ]
  },
  {
   "cell_type": "markdown",
   "metadata": {},
   "source": [
    "**Exercice**\n",
    "\n",
    "Trouvez la notation permettant d'accéder directement au *Wednesday* qui est élément de la liste `weekend` imbriquée dans `mixedlist`."
   ]
  },
  {
   "cell_type": "code",
   "execution_count": 27,
   "metadata": {},
   "outputs": [
    {
     "data": {
      "text/plain": [
       "'Wednesday'"
      ]
     },
     "execution_count": 27,
     "metadata": {},
     "output_type": "execute_result"
    }
   ],
   "source": [
    "mixedlist = [ 1.0, 100, \"Elephant\", (\"mouse\", \"rat\"), weekdays ]\n",
    "mixedlist[4][2]"
   ]
  },
  {
   "cell_type": "markdown",
   "metadata": {},
   "source": [
    "# Modification de liste\n",
    "\n",
    "Les listes ont de nombreuses méthodes utiles qui sont prédéfinies comme par exemple pour ajouter ou supprimer des éléments.\n",
    "Des explications concises sont accessibles via la commande `help(list)`. \n",
    "Ignorez les méthodes qui commencent par un underscore ( \\_ ) ; ces méthodes sont utilisées pour définir des opérations internes comme l'initialisation d'une liste, les surcharges d'opérateurs, etc."
   ]
  },
  {
   "cell_type": "markdown",
   "metadata": {},
   "source": [
    "### Modification d'un élément\n",
    "\n",
    "Il est possible de modifier un élément d'une liste en y accédant par son `index`."
   ]
  },
  {
   "cell_type": "code",
   "execution_count": null,
   "metadata": {},
   "outputs": [],
   "source": [
    "fruitlist = [\"apple\", \"banana\", \"cherry\", \"orange\", \"kiwi\", \"melon\", \"mango\"]\n",
    "fruitlist[3] = \"kumquat\"\n",
    "print(fruitlist)"
   ]
  },
  {
   "cell_type": "markdown",
   "metadata": {},
   "source": [
    "#### Exercice\n",
    "Modifiez *Wednesday* dans la liste `weekdays` en *Mercredi*."
   ]
  },
  {
   "cell_type": "code",
   "execution_count": 34,
   "metadata": {},
   "outputs": [
    {
     "name": "stdout",
     "output_type": "stream",
     "text": [
      "['Monday', 'Tuesday', 'Mercredi', 'Thursday', 'Friday', 'Saturday', 'Sunday']\n"
     ]
    }
   ],
   "source": [
    "weekdays[2] = \"Mercredi\"\n",
    "print(weekdays)"
   ]
  },
  {
   "cell_type": "markdown",
   "metadata": {},
   "source": [
    "Modifiez le deuxième élément de la liste `weekend` imbriquée dans `mixedlist` pour **Samedi**"
   ]
  },
  {
   "cell_type": "code",
   "execution_count": 39,
   "metadata": {
    "solution2": "hidden",
    "solution2_first": true
   },
   "outputs": [
    {
     "name": "stdout",
     "output_type": "stream",
     "text": [
      "[1.0, 100, 'Elephant', ('mouse', 'rat'), ['Samedi', 'Sunday']]\n"
     ]
    }
   ],
   "source": [
    "mixedlist = [ 1.0, 100, \"Elephant\", (\"mouse\", \"rat\"), weekend ]\n",
    "mixedlist[4][0] = \"Samedi\"\n",
    "print(mixedlist)"
   ]
  },
  {
   "cell_type": "code",
   "execution_count": null,
   "metadata": {
    "solution2": "hidden"
   },
   "outputs": [],
   "source": [
    "mixedlist[4][1] = \"Samedi\"\n",
    "print(mixedlist)"
   ]
  },
  {
   "cell_type": "markdown",
   "metadata": {},
   "source": [
    "### Ajout d'un élément\n",
    "\n",
    "#### En fin de liste\n",
    "La méthode **`append(x)`** ajoute l'élément *x* en fin de liste."
   ]
  },
  {
   "cell_type": "code",
   "execution_count": 40,
   "metadata": {},
   "outputs": [
    {
     "name": "stdout",
     "output_type": "stream",
     "text": [
      "['apple', 'banana', 'cherry', 'orange', 'kiwi', 'melon', 'mango', 'kumquat']\n"
     ]
    }
   ],
   "source": [
    "fruitlist = [\"apple\", \"banana\", \"cherry\", \"orange\", \"kiwi\", \"melon\", \"mango\"]\n",
    "fruitlist.append(\"kumquat\")\n",
    "print(fruitlist)"
   ]
  },
  {
   "cell_type": "markdown",
   "metadata": {},
   "source": [
    "#### À un endroit spécifique\n",
    "\n",
    "La méthode **`insert(idx, x)`** insère l'élément *x* à l'`index` *idx*."
   ]
  },
  {
   "cell_type": "code",
   "execution_count": 41,
   "metadata": {},
   "outputs": [
    {
     "name": "stdout",
     "output_type": "stream",
     "text": [
      "['apple', 'banana', 'kumquat', 'cherry', 'orange', 'kiwi', 'melon', 'mango']\n"
     ]
    }
   ],
   "source": [
    "fruitlist = [\"apple\", \"banana\", \"cherry\", \"orange\", \"kiwi\", \"melon\", \"mango\"]\n",
    "fruitlist.insert(2,\"kumquat\")\n",
    "print(fruitlist)"
   ]
  },
  {
   "cell_type": "markdown",
   "metadata": {},
   "source": [
    "#### Concaténation de listes\n",
    "\n",
    "Il y a plusieurs façons de concaténer 2 listes ou plus. La méthode la plus simple est sûrement l'utilisation de l'opérateur `+`."
   ]
  },
  {
   "cell_type": "code",
   "execution_count": 42,
   "metadata": {},
   "outputs": [
    {
     "name": "stdout",
     "output_type": "stream",
     "text": [
      "['a', 'b', 'c', 1, 2, 3]\n"
     ]
    }
   ],
   "source": [
    "list1 = [\"a\", \"b\" , \"c\"]\n",
    "list2 = [1, 2, 3]\n",
    "\n",
    "list3 = list1 + list2\n",
    "print(list3)"
   ]
  },
  {
   "cell_type": "markdown",
   "metadata": {},
   "source": [
    "On peut également utiliser la méthode **`extend(iter)`** et qui va rajouter les éléments d'une liste (ou une autre structure itérable) à une autre liste."
   ]
  },
  {
   "cell_type": "code",
   "execution_count": 43,
   "metadata": {},
   "outputs": [
    {
     "name": "stdout",
     "output_type": "stream",
     "text": [
      "['a', 'b', 'c', 1, 2, 3]\n"
     ]
    }
   ],
   "source": [
    "list1 = [\"a\", \"b\" , \"c\"]\n",
    "list2 = [1, 2, 3]\n",
    "\n",
    "list1.extend(list2)\n",
    "print(list1)"
   ]
  },
  {
   "cell_type": "markdown",
   "metadata": {},
   "source": [
    "#### Exercices\n",
    "\n",
    "1. Ajoutez le papmplemousse (en anglais) à la fin de `fruitlist`.\n",
    "2. Insérez le citron (toujours en anglais) entre l'orange et le kiwi.\n",
    "3. Supprimez le **melon** de la liste.\n",
    "4. Imprimez l'avant-dernier élément de la liste en utilisant un index négatif.\n",
    "5. Créez une nouvelle liste `fruitday` qui est la concaténation de `weekdays` et `fruitlist`."
   ]
  },
  {
   "cell_type": "code",
   "execution_count": 5,
   "metadata": {},
   "outputs": [
    {
     "name": "stdout",
     "output_type": "stream",
     "text": [
      "['apple', 'banana', 'cherry', 'orange', 'kiwi', 'melon', 'mango', 'grapefruit']\n",
      "['apple', 'banana', 'cherry', 'orange', 'lemon', 'kiwi', 'melon', 'mango', 'grapefruit']\n",
      "['apple', 'banana', 'cherry', 'orange', 'lemon', 'kiwi', 'mango', 'grapefruit']\n",
      "mango\n",
      "['Monday', 'Tuesday', 'Wednesday', 'Thursday', 'Friday', 'Saturday', 'Sunday', 'apple', 'banana', 'cherry', 'orange', 'lemon', 'kiwi', 'mango', 'grapefruit']\n"
     ]
    }
   ],
   "source": [
    "fruitlist = [\"apple\", \"banana\", \"cherry\", \"orange\", \"kiwi\", \"melon\", \"mango\"]\n",
    "fruitlist.append(\"grapefruit\")\n",
    "print(fruitlist)\n",
    "fruitlist.insert(4,\"lemon\")\n",
    "print(fruitlist)\n",
    "fruitlist.remove(\"melon\")\n",
    "print(fruitlist)\n",
    "print(fruitlist[-2])\n",
    "\n",
    "weekdays = [\"Monday\",\"Tuesday\",\"Wednesday\",\"Thursday\",\"Friday\",\"Saturday\",\"Sunday\"]\n",
    "\n",
    "fruitday = weekdays + fruitlist\n",
    "print(fruitday)\n"
   ]
  },
  {
   "cell_type": "markdown",
   "metadata": {},
   "source": [
    "### Suppression\n",
    "\n",
    "#### Supprimer un élément spécifique\n",
    "\n",
    "La méthode **`remove(elmt)`** supprime l'élément *elmt*.  "
   ]
  },
  {
   "cell_type": "code",
   "execution_count": 6,
   "metadata": {},
   "outputs": [
    {
     "name": "stdout",
     "output_type": "stream",
     "text": [
      "['apple', 'banana', 'cherry', 'kiwi', 'melon', 'mango']\n"
     ]
    }
   ],
   "source": [
    "fruitlist = [\"apple\", \"banana\", \"cherry\", \"orange\", \"kiwi\", \"melon\", \"mango\"]\n",
    "fruitlist.remove(\"orange\")\n",
    "print(fruitlist)"
   ]
  },
  {
   "cell_type": "markdown",
   "metadata": {},
   "source": [
    "#### Supprimer selon une position\n",
    "\n",
    "La méthode **`pop(idx)`** supprime l'élément se trouvant à la position *idx* et le retourne (`return`).  \n",
    "Si *idx* n'est pas précisé, `pop()` supprime et retourne le dernier élément de la liste."
   ]
  },
  {
   "cell_type": "code",
   "execution_count": 7,
   "metadata": {},
   "outputs": [
    {
     "name": "stdout",
     "output_type": "stream",
     "text": [
      "orange\n",
      "['apple', 'banana', 'cherry', 'kiwi', 'melon', 'mango']\n",
      "mango\n",
      "['apple', 'banana', 'cherry', 'kiwi', 'melon']\n"
     ]
    }
   ],
   "source": [
    "fruitlist = [\"apple\", \"banana\", \"cherry\", \"orange\", \"kiwi\", \"melon\", \"mango\"]\n",
    "fruit = fruitlist.pop(3)\n",
    "print(fruit)\n",
    "print(fruitlist)\n",
    "\n",
    "lastfruit = fruitlist.pop()\n",
    "print(lastfruit)\n",
    "print(fruitlist)"
   ]
  },
  {
   "cell_type": "markdown",
   "metadata": {},
   "source": [
    "#### Effacement\n",
    "\n",
    "Le mot clé `del` peut aussi être utilisé pour effacer un élément dont l'`index` est connu."
   ]
  },
  {
   "cell_type": "code",
   "execution_count": 2,
   "metadata": {},
   "outputs": [
    {
     "name": "stdout",
     "output_type": "stream",
     "text": [
      "['apple', 'banana', 'orange', 'kiwi', 'melon', 'mango']\n"
     ]
    }
   ],
   "source": [
    "fruitlist = [\"apple\", \"banana\", \"cherry\", \"orange\", \"kiwi\", \"melon\", \"mango\"]\n",
    "del fruitlist[2]\n",
    "print(fruitlist)"
   ]
  },
  {
   "cell_type": "markdown",
   "metadata": {},
   "source": [
    "**Attention** : le mot clé `del` efface aussi le contenu d'une variable."
   ]
  },
  {
   "cell_type": "code",
   "execution_count": 3,
   "metadata": {},
   "outputs": [
    {
     "ename": "NameError",
     "evalue": "name 'fruitlist' is not defined",
     "output_type": "error",
     "traceback": [
      "\u001b[0;31m---------------------------------------------------------------------------\u001b[0m",
      "\u001b[0;31mNameError\u001b[0m                                 Traceback (most recent call last)",
      "Input \u001b[0;32mIn [3]\u001b[0m, in \u001b[0;36m<cell line: 3>\u001b[0;34m()\u001b[0m\n\u001b[1;32m      1\u001b[0m fruitlist \u001b[38;5;241m=\u001b[39m [\u001b[38;5;124m\"\u001b[39m\u001b[38;5;124mapple\u001b[39m\u001b[38;5;124m\"\u001b[39m, \u001b[38;5;124m\"\u001b[39m\u001b[38;5;124mbanana\u001b[39m\u001b[38;5;124m\"\u001b[39m, \u001b[38;5;124m\"\u001b[39m\u001b[38;5;124mcherry\u001b[39m\u001b[38;5;124m\"\u001b[39m, \u001b[38;5;124m\"\u001b[39m\u001b[38;5;124morange\u001b[39m\u001b[38;5;124m\"\u001b[39m, \u001b[38;5;124m\"\u001b[39m\u001b[38;5;124mkiwi\u001b[39m\u001b[38;5;124m\"\u001b[39m, \u001b[38;5;124m\"\u001b[39m\u001b[38;5;124mmelon\u001b[39m\u001b[38;5;124m\"\u001b[39m, \u001b[38;5;124m\"\u001b[39m\u001b[38;5;124mmango\u001b[39m\u001b[38;5;124m\"\u001b[39m]\n\u001b[1;32m      2\u001b[0m \u001b[38;5;28;01mdel\u001b[39;00m fruitlist\n\u001b[0;32m----> 3\u001b[0m \u001b[38;5;28mprint\u001b[39m(\u001b[43mfruitlist\u001b[49m)\n",
      "\u001b[0;31mNameError\u001b[0m: name 'fruitlist' is not defined"
     ]
    }
   ],
   "source": [
    "fruitlist = [\"apple\", \"banana\", \"cherry\", \"orange\", \"kiwi\", \"melon\", \"mango\"]\n",
    "del fruitlist\n",
    "print(fruitlist)"
   ]
  },
  {
   "cell_type": "markdown",
   "metadata": {},
   "source": [
    "Pour vider le contenu d'une liste, il faut utiliser la méthode **`clear()`**."
   ]
  },
  {
   "cell_type": "code",
   "execution_count": 9,
   "metadata": {},
   "outputs": [
    {
     "name": "stdout",
     "output_type": "stream",
     "text": [
      "[]\n"
     ]
    }
   ],
   "source": [
    "fruitlist = [\"apple\", \"banana\", \"cherry\", \"orange\", \"kiwi\", \"melon\", \"mango\"]\n",
    "fruitlist.clear()\n",
    "print(fruitlist)\n"
   ]
  },
  {
   "cell_type": "markdown",
   "metadata": {},
   "source": [
    "#### Exercice\n",
    "\n",
    "Créez une nouvelle liste `monovowelfruit` dans laquelle vous déplacerez les fruits de `fruitlist` dont le nom ne possède pas 2 voyelles différentes. Ces fruits ayant été déplacés, ils ne seront plus dans `fruitlist`."
   ]
  },
  {
   "cell_type": "code",
   "execution_count": 18,
   "metadata": {},
   "outputs": [
    {
     "name": "stdout",
     "output_type": "stream",
     "text": [
      "['banana', 'kiwi']\n",
      "['apple', 'cherry', 'orange', 'melon', 'mango']\n"
     ]
    }
   ],
   "source": [
    "fruitlist = [\"apple\", \"banana\", \"cherry\", \"orange\", \"kiwi\", \"melon\", \"mango\"]\n",
    "monovowelfruit = [fruitlist.pop(1), fruitlist.pop(3) ]\n",
    "print(monovowelfruit)\n",
    "print(fruitlist)"
   ]
  },
  {
   "cell_type": "markdown",
   "metadata": {},
   "source": [
    "### Copier une liste\n",
    "\n",
    "L'affectation d'une liste existante à une nouvelle variable (`fruitcopy = fruitlist`) ne créé pas une copie de la liste, mais créé une référence. Toutes modifications de la liste initiale affectera la référence."
   ]
  },
  {
   "cell_type": "code",
   "execution_count": 19,
   "metadata": {},
   "outputs": [
    {
     "name": "stdout",
     "output_type": "stream",
     "text": [
      "['apple', 'banana', 'cherry', 'peach', 'kiwi', 'melon', 'mango']\n"
     ]
    }
   ],
   "source": [
    "fruitlist = [\"apple\", \"banana\", \"cherry\", \"orange\", \"kiwi\", \"melon\", \"mango\"]\n",
    "fruitcopy = fruitlist\n",
    "\n",
    "fruitlist[3] = \"peach\"\n",
    "\n",
    "print(fruitcopy)"
   ]
  },
  {
   "cell_type": "markdown",
   "metadata": {},
   "source": [
    "Pour créer une copie on peut utiliser la méthode **`copy()`** qui va générer une copie de la liste."
   ]
  },
  {
   "cell_type": "code",
   "execution_count": null,
   "metadata": {},
   "outputs": [],
   "source": [
    "fruitlist = [\"apple\", \"banana\", \"cherry\", \"orange\", \"kiwi\", \"melon\", \"mango\"]\n",
    "fruitcopy = fruitlist.copy()\n",
    "\n",
    "fruitlist[3] = \"peach\"\n",
    "\n",
    "print(fruitcopy)"
   ]
  },
  {
   "cell_type": "markdown",
   "metadata": {},
   "source": [
    "On peut également utiliser le *constructeur* de listes : **`list(elmt)`**, qui créer une liste à partir de `elmt`."
   ]
  },
  {
   "cell_type": "code",
   "execution_count": null,
   "metadata": {},
   "outputs": [],
   "source": [
    "fruitlist = [\"apple\", \"banana\", \"cherry\", \"orange\", \"kiwi\", \"melon\", \"mango\"]\n",
    "fruitcopy = list(fruitlist)\n",
    "\n",
    "fruitlist[2] = \"peach\"\n",
    "\n",
    "print(fruitcopy)"
   ]
  },
  {
   "cell_type": "markdown",
   "metadata": {
    "collapsed": true
   },
   "source": [
    "## Méthodes de liste\n",
    "\n",
    "Complétez les descriptions des méthodes suivantes.  \n",
    "Pour celles que vous ne connaissez pas, utilisez la fonction `help` afin de truover une description, puis essayez de les utiliser dans des exemples.\n",
    "\n",
    "|Méthode|Description|\n",
    "|----|----|\n",
    "|append(e)| <p><left>ajoute un élément e en fin de liste</left></p>|\n",
    "|clear()| <p><left>efface le contenu de la liste</left></p> |\n",
    "|copy()| <p><left>créée une copie de la liste dans une nouvelle variable (ex: newlist = mylist.copy())</left></p>|\n",
    "|count(e)| <p><left>compte le nombre d'éléments identiques à e dans la liste</left></p> |\n",
    "|extend(l)| <p><left>concatène une liste avec une autre liste l</left></p> |\n",
    "|index()| <p><left>retourne l'index de l'élément e dans la liste. Si plusieurs éléments e existent, la fonction retournera l'indice du premier élément</left></p> |\n",
    "|insert(p,e)| <p><left>insert l'élément e à la position (index) p de la liste)</left></p>|\n",
    "|pop()| <p><left>supprime l'élément e, et l'assigne à une nouvelle variable (ex: fruit3 = listefruit.pop(2))</left></p> |\n",
    "|remove(e)| <p><left>supprime l'élément e de la liste</left></p> |\n",
    "|reverse()| <p><left>inverse l'ordre des éléments de la liste</left></p>|\n",
    "|sort()| <p><left>trie la liste.</left></p> |\n"
   ]
  },
  {
   "cell_type": "code",
   "execution_count": 6,
   "metadata": {},
   "outputs": [],
   "source": [
    "fruitlist = [\"apple\", \"banana\", \"cherry\", \"orange\", \"kiwi\", \"melon\", \"mango\"]\n",
    "fruitlist.reverse()\n"
   ]
  },
  {
   "cell_type": "markdown",
   "metadata": {},
   "source": [
    "**Besoin d'aide ?** : par [ici](https://www.tutorialspoint.com/python3/python_lists.htm)"
   ]
  },
  {
   "cell_type": "markdown",
   "metadata": {},
   "source": [
    "## Fonctions supplémentaires\n",
    "\n",
    "### `len()`\n",
    "\n",
    "Il existe des fonctions prédifinies qui peuvent opérer sur les liste telles que la fonction **`len`** qui permet d'obtenir la taille d'une liste."
   ]
  },
  {
   "cell_type": "code",
   "execution_count": 29,
   "metadata": {},
   "outputs": [
    {
     "data": {
      "text/plain": [
       "7"
      ]
     },
     "execution_count": 29,
     "metadata": {},
     "output_type": "execute_result"
    }
   ],
   "source": [
    "len(fruitlist)"
   ]
  },
  {
   "cell_type": "markdown",
   "metadata": {},
   "source": [
    "####  Exercice\n",
    "\n",
    "Imprimez le dernier élément de la liste `weekdays` en utilisant la fonction `len` (pas d'index négatif)."
   ]
  },
  {
   "cell_type": "code",
   "execution_count": 32,
   "metadata": {},
   "outputs": [
    {
     "name": "stdout",
     "output_type": "stream",
     "text": [
      "Sunday\n"
     ]
    }
   ],
   "source": [
    "print(weekdays[len(weekdays)-1])"
   ]
  },
  {
   "cell_type": "markdown",
   "metadata": {},
   "source": [
    "Pourquoi la commande `weekdays[len(weekdays)]` ne fonctionne-t-elle pas ?"
   ]
  },
  {
   "cell_type": "markdown",
   "metadata": {},
   "source": [
    "Car l'index d'une liste commence à 0 et donc pour une liste de longueur n, le dernier élément aura pour index n-1 et donc len()-1"
   ]
  },
  {
   "cell_type": "markdown",
   "metadata": {},
   "source": [
    "### `range()`\n",
    "\n",
    "Une commande très utile pour générer des séquences de nombres : **`range`**.\n",
    "Cette fonction peut prendre 1, 2 ou 3 paramètres.\n",
    "\n",
    "Avec 1 paramètre elle permet de générer la liste des entiers inférieurs au paramètre."
   ]
  },
  {
   "cell_type": "code",
   "execution_count": 33,
   "metadata": {},
   "outputs": [
    {
     "data": {
      "text/plain": [
       "[0, 1, 2, 3, 4, 5, 6, 7, 8, 9]"
      ]
     },
     "execution_count": 33,
     "metadata": {},
     "output_type": "execute_result"
    }
   ],
   "source": [
    "list(range(10))"
   ]
  },
  {
   "cell_type": "markdown",
   "metadata": {},
   "source": [
    "Avec 2 paramètres vous spécifiez la valeur de début et celle de fin (non inclue)."
   ]
  },
  {
   "cell_type": "code",
   "execution_count": 34,
   "metadata": {},
   "outputs": [
    {
     "data": {
      "text/plain": [
       "[2, 3, 4, 5, 6, 7, 8, 9]"
      ]
     },
     "execution_count": 34,
     "metadata": {},
     "output_type": "execute_result"
    }
   ],
   "source": [
    "list(range(2,10))"
   ]
  },
  {
   "cell_type": "markdown",
   "metadata": {},
   "source": [
    "Avec 3 paramètres vous spécifiez la valeur de début, de fin et le pas."
   ]
  },
  {
   "cell_type": "code",
   "execution_count": 35,
   "metadata": {},
   "outputs": [
    {
     "data": {
      "text/plain": [
       "[2, 4, 6, 8]"
      ]
     },
     "execution_count": 35,
     "metadata": {},
     "output_type": "execute_result"
    }
   ],
   "source": [
    "list(range(2,10,2))"
   ]
  },
  {
   "cell_type": "markdown",
   "metadata": {},
   "source": [
    "Cette commande est particulièremet utile pour les *boucles* que nous aborderons par la suite."
   ]
  },
  {
   "cell_type": "markdown",
   "metadata": {},
   "source": [
    "#### Exercices\n",
    "\n",
    "Utilisez la fonction `range()` pour générer la liste de tous les multiples de 7 inférieurs 4103. "
   ]
  },
  {
   "cell_type": "code",
   "execution_count": 36,
   "metadata": {},
   "outputs": [
    {
     "data": {
      "text/plain": [
       "[0,\n",
       " 7,\n",
       " 14,\n",
       " 21,\n",
       " 28,\n",
       " 35,\n",
       " 42,\n",
       " 49,\n",
       " 56,\n",
       " 63,\n",
       " 70,\n",
       " 77,\n",
       " 84,\n",
       " 91,\n",
       " 98,\n",
       " 105,\n",
       " 112,\n",
       " 119,\n",
       " 126,\n",
       " 133,\n",
       " 140,\n",
       " 147,\n",
       " 154,\n",
       " 161,\n",
       " 168,\n",
       " 175,\n",
       " 182,\n",
       " 189,\n",
       " 196,\n",
       " 203,\n",
       " 210,\n",
       " 217,\n",
       " 224,\n",
       " 231,\n",
       " 238,\n",
       " 245,\n",
       " 252,\n",
       " 259,\n",
       " 266,\n",
       " 273,\n",
       " 280,\n",
       " 287,\n",
       " 294,\n",
       " 301,\n",
       " 308,\n",
       " 315,\n",
       " 322,\n",
       " 329,\n",
       " 336,\n",
       " 343,\n",
       " 350,\n",
       " 357,\n",
       " 364,\n",
       " 371,\n",
       " 378,\n",
       " 385,\n",
       " 392,\n",
       " 399,\n",
       " 406,\n",
       " 413,\n",
       " 420,\n",
       " 427,\n",
       " 434,\n",
       " 441,\n",
       " 448,\n",
       " 455,\n",
       " 462,\n",
       " 469,\n",
       " 476,\n",
       " 483,\n",
       " 490,\n",
       " 497,\n",
       " 504,\n",
       " 511,\n",
       " 518,\n",
       " 525,\n",
       " 532,\n",
       " 539,\n",
       " 546,\n",
       " 553,\n",
       " 560,\n",
       " 567,\n",
       " 574,\n",
       " 581,\n",
       " 588,\n",
       " 595,\n",
       " 602,\n",
       " 609,\n",
       " 616,\n",
       " 623,\n",
       " 630,\n",
       " 637,\n",
       " 644,\n",
       " 651,\n",
       " 658,\n",
       " 665,\n",
       " 672,\n",
       " 679,\n",
       " 686,\n",
       " 693,\n",
       " 700,\n",
       " 707,\n",
       " 714,\n",
       " 721,\n",
       " 728,\n",
       " 735,\n",
       " 742,\n",
       " 749,\n",
       " 756,\n",
       " 763,\n",
       " 770,\n",
       " 777,\n",
       " 784,\n",
       " 791,\n",
       " 798,\n",
       " 805,\n",
       " 812,\n",
       " 819,\n",
       " 826,\n",
       " 833,\n",
       " 840,\n",
       " 847,\n",
       " 854,\n",
       " 861,\n",
       " 868,\n",
       " 875,\n",
       " 882,\n",
       " 889,\n",
       " 896,\n",
       " 903,\n",
       " 910,\n",
       " 917,\n",
       " 924,\n",
       " 931,\n",
       " 938,\n",
       " 945,\n",
       " 952,\n",
       " 959,\n",
       " 966,\n",
       " 973,\n",
       " 980,\n",
       " 987,\n",
       " 994,\n",
       " 1001,\n",
       " 1008,\n",
       " 1015,\n",
       " 1022,\n",
       " 1029,\n",
       " 1036,\n",
       " 1043,\n",
       " 1050,\n",
       " 1057,\n",
       " 1064,\n",
       " 1071,\n",
       " 1078,\n",
       " 1085,\n",
       " 1092,\n",
       " 1099,\n",
       " 1106,\n",
       " 1113,\n",
       " 1120,\n",
       " 1127,\n",
       " 1134,\n",
       " 1141,\n",
       " 1148,\n",
       " 1155,\n",
       " 1162,\n",
       " 1169,\n",
       " 1176,\n",
       " 1183,\n",
       " 1190,\n",
       " 1197,\n",
       " 1204,\n",
       " 1211,\n",
       " 1218,\n",
       " 1225,\n",
       " 1232,\n",
       " 1239,\n",
       " 1246,\n",
       " 1253,\n",
       " 1260,\n",
       " 1267,\n",
       " 1274,\n",
       " 1281,\n",
       " 1288,\n",
       " 1295,\n",
       " 1302,\n",
       " 1309,\n",
       " 1316,\n",
       " 1323,\n",
       " 1330,\n",
       " 1337,\n",
       " 1344,\n",
       " 1351,\n",
       " 1358,\n",
       " 1365,\n",
       " 1372,\n",
       " 1379,\n",
       " 1386,\n",
       " 1393,\n",
       " 1400,\n",
       " 1407,\n",
       " 1414,\n",
       " 1421,\n",
       " 1428,\n",
       " 1435,\n",
       " 1442,\n",
       " 1449,\n",
       " 1456,\n",
       " 1463,\n",
       " 1470,\n",
       " 1477,\n",
       " 1484,\n",
       " 1491,\n",
       " 1498,\n",
       " 1505,\n",
       " 1512,\n",
       " 1519,\n",
       " 1526,\n",
       " 1533,\n",
       " 1540,\n",
       " 1547,\n",
       " 1554,\n",
       " 1561,\n",
       " 1568,\n",
       " 1575,\n",
       " 1582,\n",
       " 1589,\n",
       " 1596,\n",
       " 1603,\n",
       " 1610,\n",
       " 1617,\n",
       " 1624,\n",
       " 1631,\n",
       " 1638,\n",
       " 1645,\n",
       " 1652,\n",
       " 1659,\n",
       " 1666,\n",
       " 1673,\n",
       " 1680,\n",
       " 1687,\n",
       " 1694,\n",
       " 1701,\n",
       " 1708,\n",
       " 1715,\n",
       " 1722,\n",
       " 1729,\n",
       " 1736,\n",
       " 1743,\n",
       " 1750,\n",
       " 1757,\n",
       " 1764,\n",
       " 1771,\n",
       " 1778,\n",
       " 1785,\n",
       " 1792,\n",
       " 1799,\n",
       " 1806,\n",
       " 1813,\n",
       " 1820,\n",
       " 1827,\n",
       " 1834,\n",
       " 1841,\n",
       " 1848,\n",
       " 1855,\n",
       " 1862,\n",
       " 1869,\n",
       " 1876,\n",
       " 1883,\n",
       " 1890,\n",
       " 1897,\n",
       " 1904,\n",
       " 1911,\n",
       " 1918,\n",
       " 1925,\n",
       " 1932,\n",
       " 1939,\n",
       " 1946,\n",
       " 1953,\n",
       " 1960,\n",
       " 1967,\n",
       " 1974,\n",
       " 1981,\n",
       " 1988,\n",
       " 1995,\n",
       " 2002,\n",
       " 2009,\n",
       " 2016,\n",
       " 2023,\n",
       " 2030,\n",
       " 2037,\n",
       " 2044,\n",
       " 2051,\n",
       " 2058,\n",
       " 2065,\n",
       " 2072,\n",
       " 2079,\n",
       " 2086,\n",
       " 2093,\n",
       " 2100,\n",
       " 2107,\n",
       " 2114,\n",
       " 2121,\n",
       " 2128,\n",
       " 2135,\n",
       " 2142,\n",
       " 2149,\n",
       " 2156,\n",
       " 2163,\n",
       " 2170,\n",
       " 2177,\n",
       " 2184,\n",
       " 2191,\n",
       " 2198,\n",
       " 2205,\n",
       " 2212,\n",
       " 2219,\n",
       " 2226,\n",
       " 2233,\n",
       " 2240,\n",
       " 2247,\n",
       " 2254,\n",
       " 2261,\n",
       " 2268,\n",
       " 2275,\n",
       " 2282,\n",
       " 2289,\n",
       " 2296,\n",
       " 2303,\n",
       " 2310,\n",
       " 2317,\n",
       " 2324,\n",
       " 2331,\n",
       " 2338,\n",
       " 2345,\n",
       " 2352,\n",
       " 2359,\n",
       " 2366,\n",
       " 2373,\n",
       " 2380,\n",
       " 2387,\n",
       " 2394,\n",
       " 2401,\n",
       " 2408,\n",
       " 2415,\n",
       " 2422,\n",
       " 2429,\n",
       " 2436,\n",
       " 2443,\n",
       " 2450,\n",
       " 2457,\n",
       " 2464,\n",
       " 2471,\n",
       " 2478,\n",
       " 2485,\n",
       " 2492,\n",
       " 2499,\n",
       " 2506,\n",
       " 2513,\n",
       " 2520,\n",
       " 2527,\n",
       " 2534,\n",
       " 2541,\n",
       " 2548,\n",
       " 2555,\n",
       " 2562,\n",
       " 2569,\n",
       " 2576,\n",
       " 2583,\n",
       " 2590,\n",
       " 2597,\n",
       " 2604,\n",
       " 2611,\n",
       " 2618,\n",
       " 2625,\n",
       " 2632,\n",
       " 2639,\n",
       " 2646,\n",
       " 2653,\n",
       " 2660,\n",
       " 2667,\n",
       " 2674,\n",
       " 2681,\n",
       " 2688,\n",
       " 2695,\n",
       " 2702,\n",
       " 2709,\n",
       " 2716,\n",
       " 2723,\n",
       " 2730,\n",
       " 2737,\n",
       " 2744,\n",
       " 2751,\n",
       " 2758,\n",
       " 2765,\n",
       " 2772,\n",
       " 2779,\n",
       " 2786,\n",
       " 2793,\n",
       " 2800,\n",
       " 2807,\n",
       " 2814,\n",
       " 2821,\n",
       " 2828,\n",
       " 2835,\n",
       " 2842,\n",
       " 2849,\n",
       " 2856,\n",
       " 2863,\n",
       " 2870,\n",
       " 2877,\n",
       " 2884,\n",
       " 2891,\n",
       " 2898,\n",
       " 2905,\n",
       " 2912,\n",
       " 2919,\n",
       " 2926,\n",
       " 2933,\n",
       " 2940,\n",
       " 2947,\n",
       " 2954,\n",
       " 2961,\n",
       " 2968,\n",
       " 2975,\n",
       " 2982,\n",
       " 2989,\n",
       " 2996,\n",
       " 3003,\n",
       " 3010,\n",
       " 3017,\n",
       " 3024,\n",
       " 3031,\n",
       " 3038,\n",
       " 3045,\n",
       " 3052,\n",
       " 3059,\n",
       " 3066,\n",
       " 3073,\n",
       " 3080,\n",
       " 3087,\n",
       " 3094,\n",
       " 3101,\n",
       " 3108,\n",
       " 3115,\n",
       " 3122,\n",
       " 3129,\n",
       " 3136,\n",
       " 3143,\n",
       " 3150,\n",
       " 3157,\n",
       " 3164,\n",
       " 3171,\n",
       " 3178,\n",
       " 3185,\n",
       " 3192,\n",
       " 3199,\n",
       " 3206,\n",
       " 3213,\n",
       " 3220,\n",
       " 3227,\n",
       " 3234,\n",
       " 3241,\n",
       " 3248,\n",
       " 3255,\n",
       " 3262,\n",
       " 3269,\n",
       " 3276,\n",
       " 3283,\n",
       " 3290,\n",
       " 3297,\n",
       " 3304,\n",
       " 3311,\n",
       " 3318,\n",
       " 3325,\n",
       " 3332,\n",
       " 3339,\n",
       " 3346,\n",
       " 3353,\n",
       " 3360,\n",
       " 3367,\n",
       " 3374,\n",
       " 3381,\n",
       " 3388,\n",
       " 3395,\n",
       " 3402,\n",
       " 3409,\n",
       " 3416,\n",
       " 3423,\n",
       " 3430,\n",
       " 3437,\n",
       " 3444,\n",
       " 3451,\n",
       " 3458,\n",
       " 3465,\n",
       " 3472,\n",
       " 3479,\n",
       " 3486,\n",
       " 3493,\n",
       " 3500,\n",
       " 3507,\n",
       " 3514,\n",
       " 3521,\n",
       " 3528,\n",
       " 3535,\n",
       " 3542,\n",
       " 3549,\n",
       " 3556,\n",
       " 3563,\n",
       " 3570,\n",
       " 3577,\n",
       " 3584,\n",
       " 3591,\n",
       " 3598,\n",
       " 3605,\n",
       " 3612,\n",
       " 3619,\n",
       " 3626,\n",
       " 3633,\n",
       " 3640,\n",
       " 3647,\n",
       " 3654,\n",
       " 3661,\n",
       " 3668,\n",
       " 3675,\n",
       " 3682,\n",
       " 3689,\n",
       " 3696,\n",
       " 3703,\n",
       " 3710,\n",
       " 3717,\n",
       " 3724,\n",
       " 3731,\n",
       " 3738,\n",
       " 3745,\n",
       " 3752,\n",
       " 3759,\n",
       " 3766,\n",
       " 3773,\n",
       " 3780,\n",
       " 3787,\n",
       " 3794,\n",
       " 3801,\n",
       " 3808,\n",
       " 3815,\n",
       " 3822,\n",
       " 3829,\n",
       " 3836,\n",
       " 3843,\n",
       " 3850,\n",
       " 3857,\n",
       " 3864,\n",
       " 3871,\n",
       " 3878,\n",
       " 3885,\n",
       " 3892,\n",
       " 3899,\n",
       " 3906,\n",
       " 3913,\n",
       " 3920,\n",
       " 3927,\n",
       " 3934,\n",
       " 3941,\n",
       " 3948,\n",
       " 3955,\n",
       " 3962,\n",
       " 3969,\n",
       " 3976,\n",
       " 3983,\n",
       " 3990,\n",
       " 3997,\n",
       " 4004,\n",
       " 4011,\n",
       " 4018,\n",
       " 4025,\n",
       " 4032,\n",
       " 4039,\n",
       " 4046,\n",
       " 4053,\n",
       " 4060,\n",
       " 4067,\n",
       " 4074,\n",
       " 4081,\n",
       " 4088,\n",
       " 4095,\n",
       " 4102]"
      ]
     },
     "execution_count": 36,
     "metadata": {},
     "output_type": "execute_result"
    }
   ],
   "source": [
    "list(range(0,4103,7))"
   ]
  },
  {
   "cell_type": "markdown",
   "metadata": {
    "solution2": "shown",
    "solution2_first": true
   },
   "source": [
    "En utilisant des listes imbriquées, créez une structure pour représenter la matrice 3x3 suivante : $A=\\begin{pmatrix}1&4&7\\\\2&5&8\\\\3&6&9\\end{pmatrix}$. \n",
    "Vos imbrications de listes devront permettre à la commande `A[l][c]` d'accéder à l'élément se trouvant à la ligne `l` et la colonne `c` ; e.g. `A[1][2]=8` et `A[2][0]=3` (Attention les index commencent à 0)."
   ]
  },
  {
   "cell_type": "code",
   "execution_count": 37,
   "metadata": {
    "solution2": "shown"
   },
   "outputs": [
    {
     "name": "stdout",
     "output_type": "stream",
     "text": [
      "[[1, 4, 7], [2, 5, 8], [3, 6, 9]]\n",
      "8\n",
      "3\n"
     ]
    }
   ],
   "source": [
    "A = [[1,4,7],[2,5,8],[3,6,9]]\n",
    "print(A)\n",
    "print(A[1][2])\n",
    "print(A[2][0])"
   ]
  },
  {
   "cell_type": "code",
   "execution_count": 4,
   "metadata": {},
   "outputs": [],
   "source": [
    "#autres manières de représenter notre matrice \n",
    "#nous pouvons ainsi, en plus de manipuler la matrice, manipuler les 3 colonnes ou lignes indépendemment\n",
    "#soit c1, c2, c3 les 3 colonnes :\n",
    "c1 = [1,2,3]\n",
    "c2 = [4,5,6]\n",
    "c3 = [7,8,9]\n",
    "A = [c1,c2,c3]\n",
    "#soit l1, l2, l3 les 3 lignes :\n",
    "l1 = [1,4,7]\n",
    "l2 = [2,5,8]\n",
    "l3 = [3,6,9]\n",
    "A = [l1,l2,l3]"
   ]
  },
  {
   "cell_type": "markdown",
   "metadata": {},
   "source": [
    "Ce Notebook est a été crée par David Da SILVA - 2020\n",
    "\n",
    "<a rel=\"license\" href=\"http://creativecommons.org/licenses/by-nc-sa/4.0/\"><img alt=\"Creative Commons License\" style=\"border-width:0\" src=\"https://i.creativecommons.org/l/by-nc-sa/4.0/88x31.png\" /></a><br />This work is licensed under a <a rel=\"license\" href=\"http://creativecommons.org/licenses/by-nc-sa/4.0/\">Creative Commons Attribution-NonCommercial-ShareAlike 4.0 International License</a>."
   ]
  }
 ],
 "metadata": {
  "kernelspec": {
   "display_name": "Python 3 (ipykernel)",
   "language": "python",
   "name": "python3"
  },
  "language_info": {
   "codemirror_mode": {
    "name": "ipython",
    "version": 3
   },
   "file_extension": ".py",
   "mimetype": "text/x-python",
   "name": "python",
   "nbconvert_exporter": "python",
   "pygments_lexer": "ipython3",
   "version": "3.9.7"
  },
  "latex_envs": {
   "LaTeX_envs_menu_present": true,
   "autoclose": true,
   "autocomplete": true,
   "bibliofile": "biblio.bib",
   "cite_by": "apalike",
   "current_citInitial": 1,
   "eqLabelWithNumbers": true,
   "eqNumInitial": 1,
   "hotkeys": {
    "equation": "Ctrl-E",
    "itemize": "Ctrl-I"
   },
   "labels_anchors": false,
   "latex_user_defs": false,
   "report_style_numbering": false,
   "user_envs_cfg": false
  },
  "toc": {
   "base_numbering": 1,
   "nav_menu": {},
   "number_sections": true,
   "sideBar": true,
   "skip_h1_title": true,
   "title_cell": "Sommaire",
   "title_sidebar": "Listes",
   "toc_cell": false,
   "toc_position": {
    "height": "calc(100% - 180px)",
    "left": "10px",
    "top": "150px",
    "width": "221.375px"
   },
   "toc_section_display": true,
   "toc_window_display": true
  }
 },
 "nbformat": 4,
 "nbformat_minor": 1
}
